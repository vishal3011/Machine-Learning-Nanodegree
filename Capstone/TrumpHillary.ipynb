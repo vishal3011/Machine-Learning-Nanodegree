{
 "cells": [
  {
   "cell_type": "markdown",
   "metadata": {
    "_cell_guid": "713c0b1f-cb3f-9fcc-c22d-f7c245ac3eb6"
   },
   "source": [
    "Predicting who said it: Trump or Clinton\n",
    "========================================\n",
    "\n",
    "**By:  Vaishnav Vishal**\n",
    "\n",
    "In this notebook, I use tf-idf scores and a Naive Bayes classifier to predict whether a tweet is more likely to have been tweeted by @realDonaldTrump or @HillaryClinton.\n",
    "\n",
    "\n",
    "Test accuracy score: 93.66%\n",
    "\n"
   ]
  },
  {
   "cell_type": "markdown",
   "metadata": {
    "_cell_guid": "e7d08809-eaea-ad59-5fc4-a26e24ffade8"
   },
   "source": [
    "----------\n",
    "\n",
    "1. Data exploration and analysis\n",
    "============================================================="
   ]
  },
  {
   "cell_type": "code",
   "execution_count": 1,
   "metadata": {
    "_cell_guid": "0eb4d05d-ccc1-95f0-2dfa-1c79921b1408",
    "collapsed": false
   },
   "outputs": [],
   "source": [
    "%matplotlib inline\n",
    "import pandas as pd\n",
    "import numpy as np\n",
    "import matplotlib.pyplot as plt\n",
    "from pandas import Series\n",
    "import seaborn as sns\n",
    "import calendar\n",
    "import datetime\n",
    "import re"
   ]
  },
  {
   "cell_type": "code",
   "execution_count": 2,
   "metadata": {
    "_cell_guid": "730c866c-d09b-1ea0-a318-1e8e59cc3f2e",
    "collapsed": false
   },
   "outputs": [
    {
     "name": "stdout",
     "output_type": "stream",
     "text": [
      "<class 'pandas.core.frame.DataFrame'>\n",
      "RangeIndex: 6444 entries, 0 to 6443\n",
      "Data columns (total 28 columns):\n",
      "id                         6444 non-null int64\n",
      "handle                     6444 non-null object\n",
      "text                       6444 non-null object\n",
      "is_retweet                 6444 non-null bool\n",
      "original_author            722 non-null object\n",
      "time                       6444 non-null object\n",
      "in_reply_to_screen_name    208 non-null object\n",
      "in_reply_to_status_id      202 non-null float64\n",
      "in_reply_to_user_id        208 non-null float64\n",
      "is_quote_status            6444 non-null bool\n",
      "lang                       6444 non-null object\n",
      "retweet_count              6444 non-null int64\n",
      "favorite_count             6444 non-null int64\n",
      "longitude                  12 non-null float64\n",
      "latitude                   12 non-null float64\n",
      "place_id                   204 non-null object\n",
      "place_full_name            204 non-null object\n",
      "place_name                 204 non-null object\n",
      "place_type                 204 non-null object\n",
      "place_country_code         204 non-null object\n",
      "place_country              204 non-null object\n",
      "place_contained_within     204 non-null object\n",
      "place_attributes           204 non-null object\n",
      "place_bounding_box         204 non-null object\n",
      "source_url                 6444 non-null object\n",
      "truncated                  6444 non-null bool\n",
      "entities                   6444 non-null object\n",
      "extended_entities          1348 non-null object\n",
      "dtypes: bool(3), float64(4), int64(3), object(18)\n",
      "memory usage: 1.2+ MB\n",
      "None\n"
     ]
    }
   ],
   "source": [
    "df1 = pd.read_csv('tweets.csv', encoding=\"utf-8\")\n",
    "print df1.info()\n",
    "df1 = df1[['handle','text','is_retweet']]\n",
    "\n",
    "df = df1.loc[df1['is_retweet'] == False]\n",
    "df = df.copy().reset_index(drop=True)"
   ]
  },
  {
   "cell_type": "markdown",
   "metadata": {
    "_cell_guid": "8404ee95-8c04-1b48-e87e-87e5af315f10"
   },
   "source": [
    "Extract mentions from tweets\n",
    "------------------------------------------------------------------------"
   ]
  },
  {
   "cell_type": "code",
   "execution_count": 3,
   "metadata": {
    "_cell_guid": "26a03837-3dae-7add-2e8a-59b7240db45e",
    "collapsed": true
   },
   "outputs": [],
   "source": [
    "def all_mentions(tw):\n",
    "    test2 = re.findall('(\\@[A-Za-z_]+)', tw)\n",
    "    if test2:\n",
    "        return test2\n",
    "    else:\n",
    "        return \"\"\n",
    "\n",
    "df['top_mentions'] = df['text'].apply(lambda x: all_mentions(x))\n",
    "\n",
    "mention_list_trump = []\n",
    "mention_list_clinton = []\n",
    "for n in range(len(df['top_mentions'])):\n",
    "    if df['handle'][n] == 'realDonaldTrump':\n",
    "        mention_list_trump += df['top_mentions'][n]\n",
    "    elif df['handle'][n] == 'HillaryClinton':\n",
    "        mention_list_clinton += df['top_mentions'][n]"
   ]
  },
  {
   "cell_type": "markdown",
   "metadata": {
    "_cell_guid": "0bed36b7-ffb6-c834-1ad5-43cc69ef3362"
   },
   "source": [
    "Graph mentions most used by candidates (top 10)\n",
    "---------------------------------------"
   ]
  },
  {
   "cell_type": "code",
   "execution_count": 4,
   "metadata": {
    "_cell_guid": "8b0a663b-0f91-906a-b679-f8724fde072e",
    "collapsed": false,
    "scrolled": true
   },
   "outputs": [
    {
     "data": {
      "text/plain": [
       "<matplotlib.text.Text at 0x7f78a98e8790>"
      ]
     },
     "execution_count": 4,
     "metadata": {},
     "output_type": "execute_result"
    },
    {
     "data": {
      "image/png": "[encoded data removed]",
      "text/plain": [
       "<matplotlib.figure.Figure at 0x7f78e0275550>"
      ]
     },
     "metadata": {},
     "output_type": "display_data"
    },
    {
     "data": {
      "image/png": "[encoded data removed]",
      "text/plain": [
       "<matplotlib.figure.Figure at 0x7f78e0275110>"
      ]
     },
     "metadata": {},
     "output_type": "display_data"
    }
   ],
   "source": [
    "data1 = Series(mention_list_trump).value_counts().head(n=10)\n",
    "sns.set_style(\"white\")\n",
    "plt.figure(figsize=(12, 5))\n",
    "sns.barplot(x=data1, y=data1.index, orient='h', palette=\"Reds_r\").set_title(\"Trump's 10 most used mentions\")\n",
    "\n",
    "data2 = Series(mention_list_clinton).value_counts().head(n=10)\n",
    "sns.set_style(\"white\")\n",
    "plt.figure(figsize=(12, 5))\n",
    "sns.barplot(x=data2, y=data2.index, orient='h', palette=\"Blues_r\").set_title(\"Clinton's 10 most used mentions\")"
   ]
  },
  {
   "cell_type": "markdown",
   "metadata": {
    "_cell_guid": "092a66dc-39ec-db16-11d9-bdb1dfad5bc9"
   },
   "source": [
    "**Seems like one thing both candidates had in common was their frequent mention of Trump. Surprinsingly, while Trump was Hillary's 2nd most mentioned account, she was not on Trump's list.**"
   ]
  },
  {
   "cell_type": "markdown",
   "metadata": {
    "_cell_guid": "3728ed00-67fc-7abf-6249-82c4264ef25b"
   },
   "source": [
    "Extract hashtags from tweets\n",
    "----------------------------"
   ]
  },
  {
   "cell_type": "code",
   "execution_count": 5,
   "metadata": {
    "_cell_guid": "b6e3751d-1020-d768-4653-ced70645024e",
    "collapsed": true
   },
   "outputs": [],
   "source": [
    "def get_hashtags(tw):\n",
    "    test3 = re.findall('(\\#[A-Za-z_]+)', tw)\n",
    "    if test3:\n",
    "        return test3\n",
    "    else:\n",
    "        return \"\"\n",
    "\n",
    "df['top_hashtags'] = df['text'].apply(lambda x: get_hashtags(x))\n",
    "\n",
    "hashtags_list_trump = []\n",
    "hashtags_list_clinton = []\n",
    "for n in range(len(df['top_hashtags'])):\n",
    "    if df['handle'][n] == 'realDonaldTrump':\n",
    "        hashtags_list_trump += df['top_hashtags'][n]\n",
    "    elif df['handle'][n] == 'HillaryClinton':\n",
    "        hashtags_list_clinton += df['top_hashtags'][n]"
   ]
  },
  {
   "cell_type": "markdown",
   "metadata": {
    "_cell_guid": "788e13a6-5122-c845-708a-f6a94cdd76da"
   },
   "source": [
    "Graph hashtags most used by candidates (top 10)\n",
    "---------------------------------------"
   ]
  },
  {
   "cell_type": "code",
   "execution_count": 6,
   "metadata": {
    "_cell_guid": "6c2eb0b6-4de8-9aa4-680f-00625f520aa5",
    "collapsed": false
   },
   "outputs": [
    {
     "data": {
      "text/plain": [
       "<matplotlib.text.Text at 0x7f78a84ac3d0>"
      ]
     },
     "execution_count": 6,
     "metadata": {},
     "output_type": "execute_result"
    },
    {
     "data": {
      "image/png": "[encoded data removed]",
      "text/plain": [
       "<matplotlib.figure.Figure at 0x7f78a96d1510>"
      ]
     },
     "metadata": {},
     "output_type": "display_data"
    },
    {
     "data": {
      "image/png": "[encoded data removed]",
      "text/plain": [
       "<matplotlib.figure.Figure at 0x7f78a987f390>"
      ]
     },
     "metadata": {},
     "output_type": "display_data"
    }
   ],
   "source": [
    "data3 = Series(hashtags_list_trump).value_counts().head(n=10)\n",
    "sns.set_style(\"white\")\n",
    "plt.figure(figsize=(11.3, 5))\n",
    "sns.barplot(x=data3, y=data3.index, orient='h', palette=\"Reds_r\").set_title(\"Trump's 10 most used hashtags\")\n",
    "\n",
    "data4 = Series(hashtags_list_clinton).value_counts().head(n=10)\n",
    "sns.set_style(\"white\")\n",
    "plt.figure(figsize=(12, 5))\n",
    "sns.barplot(x=data4, y=data4.index, orient='h', palette=\"Blues_r\").set_title(\"Clinton's 10 most used hashtags\")"
   ]
  },
  {
   "cell_type": "markdown",
   "metadata": {
    "_cell_guid": "27f517af-a0bb-8cba-66c1-50257e51431c"
   },
   "source": [
    "**It seems Trump was much more fond of hashtags than Hillary, using his favorite hashtag (#Trump) almost 9x more than she used her favorite (#DemsInPhilly).**"
   ]
  },
  {
   "cell_type": "code",
   "execution_count": 7,
   "metadata": {
    "_cell_guid": "e90687b9-d13d-8ac9-db77-adc3203ce122",
    "collapsed": true
   },
   "outputs": [],
   "source": [
    "df['length_no_url'] = df['text']\n",
    "df['length_no_url'] = df['length_no_url'].apply(lambda x: len(x.lower().split('http')[0]))\n",
    "df['message'] = df['text'].apply(lambda x: x.lower().split('http')[0])\n",
    "\n",
    "def candidate_code(x):\n",
    "    if x == 'HillaryClinton':\n",
    "        return 'Hillary'\n",
    "    elif x == 'realDonaldTrump':\n",
    "        return 'Trump'\n",
    "    else:\n",
    "        return ''\n",
    "\n",
    "df['label'] = df['handle'].apply(lambda x: candidate_code(x))"
   ]
  },
  {
   "cell_type": "markdown",
   "metadata": {
    "_cell_guid": "de6f8268-d36e-2f60-fe9a-f5dbe6526cf8"
   },
   "source": [
    "----------\n",
    "\n",
    "2. Training/testing model\n",
    "=============================================="
   ]
  },
  {
   "cell_type": "code",
   "execution_count": 8,
   "metadata": {
    "_cell_guid": "55f3bacd-adb6-cdc8-f2ab-2d6d6df7ef2e",
    "collapsed": false
   },
   "outputs": [
    {
     "name": "stderr",
     "output_type": "stream",
     "text": [
      "/home/localhost/.local/lib/python2.7/site-packages/sklearn/cross_validation.py:44: DeprecationWarning: This module was deprecated in version 0.18 in favor of the model_selection module into which all the refactored classes and functions are moved. Also note that the interface of the new CV iterators are different from that of this module. This module will be removed in 0.20.\n",
      "  \"This module will be removed in 0.20.\", DeprecationWarning)\n",
      "/home/localhost/.local/lib/python2.7/site-packages/sklearn/grid_search.py:43: DeprecationWarning: This module was deprecated in version 0.18 in favor of the model_selection module into which all the refactored classes and functions are moved. This module will be removed in 0.20.\n",
      "  DeprecationWarning)\n"
     ]
    }
   ],
   "source": [
    "from textblob import TextBlob\n",
    "from sklearn.feature_extraction.text import CountVectorizer, TfidfTransformer\n",
    "from sklearn.naive_bayes import MultinomialNB, GaussianNB\n",
    "from sklearn.svm import SVC, LinearSVC\n",
    "from sklearn.metrics import classification_report, f1_score, accuracy_score, confusion_matrix\n",
    "from sklearn.pipeline import Pipeline\n",
    "from sklearn.grid_search import GridSearchCV\n",
    "from sklearn.cross_validation import StratifiedKFold, cross_val_score, train_test_split \n",
    "from sklearn.tree import DecisionTreeClassifier \n",
    "from mlxtend.preprocessing import DenseTransformer"
   ]
  },
  {
   "cell_type": "markdown",
   "metadata": {
    "_cell_guid": "ab91891e-ef95-5e45-c856-b6a7d1d6c744"
   },
   "source": [
    "Create new dataframe for prediction model with ***candidate name*** (as **label**) and ***tweets*** (as **message**):"
   ]
  },
  {
   "cell_type": "code",
   "execution_count": 9,
   "metadata": {
    "_cell_guid": "242fff8e-48c0-f923-8528-9e210c5cd809",
    "collapsed": true
   },
   "outputs": [],
   "source": [
    "messages = df[['label','message']]"
   ]
  },
  {
   "cell_type": "code",
   "execution_count": 10,
   "metadata": {
    "_cell_guid": "5c73bde8-66f6-cd9c-916f-0c0bc072da85",
    "collapsed": false
   },
   "outputs": [
    {
     "name": "stdout",
     "output_type": "stream",
     "text": [
      "     label                                            message\n",
      "0  Hillary  the question in this election: who can put the...\n",
      "1  Hillary  if we stand together, there's nothing we can't...\n",
      "2  Hillary  both candidates were asked about how they'd co...\n",
      "3    Trump  join me for a 3pm rally - tomorrow at the mid-...\n",
      "4  Hillary  this election is too important to sit out. go to \n"
     ]
    }
   ],
   "source": [
    "print(messages[:5])"
   ]
  },
  {
   "cell_type": "code",
   "execution_count": 11,
   "metadata": {
    "_cell_guid": "93336e41-3f3c-45ec-6a9e-92cf20cf9170",
    "collapsed": true
   },
   "outputs": [],
   "source": [
    "def split_into_tokens(message):\n",
    "    message = message  # convert bytes into proper unicode\n",
    "    return TextBlob(message).words"
   ]
  },
  {
   "cell_type": "code",
   "execution_count": 12,
   "metadata": {
    "_cell_guid": "f01916df-219a-5237-95ac-a89d3b93135b",
    "collapsed": false
   },
   "outputs": [
    {
     "data": {
      "text/plain": [
       "0    the question in this election: who can put the...\n",
       "1    if we stand together, there's nothing we can't...\n",
       "2    both candidates were asked about how they'd co...\n",
       "3    join me for a 3pm rally - tomorrow at the mid-...\n",
       "4    this election is too important to sit out. go to \n",
       "Name: message, dtype: object"
      ]
     },
     "execution_count": 12,
     "metadata": {},
     "output_type": "execute_result"
    }
   ],
   "source": [
    "messages.message.head()"
   ]
  },
  {
   "cell_type": "code",
   "execution_count": 13,
   "metadata": {
    "_cell_guid": "07764036-5ff5-47e2-6901-0e419bc186ce",
    "collapsed": false
   },
   "outputs": [
    {
     "data": {
      "text/plain": [
       "0    [the, question, in, this, election, who, can, ...\n",
       "1    [if, we, stand, together, there, 's, nothing, ...\n",
       "2    [both, candidates, were, asked, about, how, th...\n",
       "3    [join, me, for, a, 3pm, rally, tomorrow, at, t...\n",
       "4    [this, election, is, too, important, to, sit, ...\n",
       "Name: message, dtype: object"
      ]
     },
     "execution_count": 13,
     "metadata": {},
     "output_type": "execute_result"
    }
   ],
   "source": [
    "messages.message.head().apply(split_into_tokens)"
   ]
  },
  {
   "cell_type": "code",
   "execution_count": 14,
   "metadata": {
    "_cell_guid": "3ed1c697-aa50-34ca-d2a9-2aa6b2b4f2b8",
    "collapsed": false
   },
   "outputs": [
    {
     "data": {
      "text/plain": [
       "0    [the, question, in, this, election, who, can, ...\n",
       "1    [if, we, stand, together, there, 's, nothing, ...\n",
       "2    [both, candidate, were, asked, about, how, the...\n",
       "3    [join, me, for, a, 3pm, rally, tomorrow, at, t...\n",
       "4    [this, election, is, too, important, to, sit, ...\n",
       "Name: message, dtype: object"
      ]
     },
     "execution_count": 14,
     "metadata": {},
     "output_type": "execute_result"
    }
   ],
   "source": [
    "def split_into_lemmas(message):\n",
    "    message = message.lower()\n",
    "    words = TextBlob(message).words\n",
    "    # for each word, take its \"base form\" = lemma \n",
    "    return [word.lemma for word in words]\n",
    "\n",
    "messages.message.head().apply(split_into_lemmas)"
   ]
  },
  {
   "cell_type": "code",
   "execution_count": 15,
   "metadata": {
    "_cell_guid": "fe4f6dcf-6f07-d25e-6ca0-0300ad72d6dc",
    "collapsed": false
   },
   "outputs": [
    {
     "name": "stdout",
     "output_type": "stream",
     "text": [
      "9016\n",
      "[u\"'16\", u\"'84\", u\"'a\", u\"'american\", u\"'amnesty\"]\n"
     ]
    }
   ],
   "source": [
    "bow_transformer = CountVectorizer(analyzer=split_into_lemmas).fit(messages['message'])\n",
    "print(len(bow_transformer.vocabulary_))\n",
    "print(bow_transformer.get_feature_names()[:5])"
   ]
  },
  {
   "cell_type": "code",
   "execution_count": 16,
   "metadata": {
    "_cell_guid": "6618295e-b09e-dded-5c69-93a1d6e7619c",
    "collapsed": false
   },
   "outputs": [
    {
     "name": "stdout",
     "output_type": "stream",
     "text": [
      "('sparse matrix shape:', (5722, 9016))\n",
      "('number of non-zeros:', 91236)\n",
      "sparsity: 0.18%\n"
     ]
    }
   ],
   "source": [
    "messages_bow = bow_transformer.transform(messages['message'])\n",
    "print('sparse matrix shape:', messages_bow.shape)\n",
    "print('number of non-zeros:', messages_bow.nnz)\n",
    "print('sparsity: %.2f%%' % (100.0 * messages_bow.nnz / (messages_bow.shape[0] * messages_bow.shape[1])))"
   ]
  },
  {
   "cell_type": "code",
   "execution_count": 17,
   "metadata": {
    "_cell_guid": "10a0d5e6-3e94-a958-057f-b7cdb5129637",
    "collapsed": true
   },
   "outputs": [],
   "source": [
    "tfidf_transformer = TfidfTransformer().fit(messages_bow)"
   ]
  },
  {
   "cell_type": "code",
   "execution_count": 18,
   "metadata": {
    "_cell_guid": "68172c7d-0315-6c0e-5b67-12bab399c4ca",
    "collapsed": false
   },
   "outputs": [
    {
     "name": "stdout",
     "output_type": "stream",
     "text": [
      "1.886255343\n",
      "7.86048895318\n"
     ]
    }
   ],
   "source": [
    "print (tfidf_transformer.idf_[bow_transformer.vocabulary_['the']])\n",
    "print (tfidf_transformer.idf_[bow_transformer.vocabulary_['hannity']])"
   ]
  },
  {
   "cell_type": "code",
   "execution_count": 19,
   "metadata": {
    "_cell_guid": "922a9f96-1c8a-da78-aef4-02d6bbdab0d6",
    "collapsed": false
   },
   "outputs": [
    {
     "name": "stdout",
     "output_type": "stream",
     "text": [
      "(5722, 9016)\n"
     ]
    }
   ],
   "source": [
    "messages_tfidf = tfidf_transformer.transform(messages_bow)\n",
    "print(messages_tfidf.shape)"
   ]
  },
  {
   "cell_type": "code",
   "execution_count": 20,
   "metadata": {
    "_cell_guid": "6530d632-0552-2fdd-2ae8-1c06fa0f7e89",
    "collapsed": false
   },
   "outputs": [
    {
     "name": "stdout",
     "output_type": "stream",
     "text": [
      "CPU times: user 20 ms, sys: 0 ns, total: 20 ms\n",
      "Wall time: 18.4 ms\n"
     ]
    }
   ],
   "source": [
    "%time spam_detector = MultinomialNB().fit(messages_tfidf, messages['label'])"
   ]
  },
  {
   "cell_type": "code",
   "execution_count": 21,
   "metadata": {
    "_cell_guid": "503eab86-7903-4cf9-97ac-0465a2358959",
    "collapsed": true
   },
   "outputs": [],
   "source": [
    "all_predictions = spam_detector.predict(messages_tfidf)"
   ]
  },
  {
   "cell_type": "code",
   "execution_count": 22,
   "metadata": {
    "_cell_guid": "ebd81763-def3-4da2-5168-646db7072b78",
    "collapsed": false
   },
   "outputs": [
    {
     "name": "stdout",
     "output_type": "stream",
     "text": [
      "Accuracy on training set:  97.10%\n"
     ]
    }
   ],
   "source": [
    "tr_acc = accuracy_score(messages['label'], all_predictions)\n",
    "print(\"Accuracy on training set:  %.2f%%\" % (100 * tr_acc))"
   ]
  },
  {
   "cell_type": "code",
   "execution_count": 23,
   "metadata": {
    "_cell_guid": "2d75ec81-0f55-f0d1-1bb0-496e60465fec",
    "collapsed": false
   },
   "outputs": [
    {
     "data": {
      "text/plain": [
       "<matplotlib.text.Text at 0x7f789ab12890>"
      ]
     },
     "execution_count": 23,
     "metadata": {},
     "output_type": "execute_result"
    },
    {
     "data": {
      "image/png": "[encoded data removed]",
      "text/plain": [
       "<matplotlib.figure.Figure at 0x7f789ac7c990>"
      ]
     },
     "metadata": {},
     "output_type": "display_data"
    }
   ],
   "source": [
    "fig, ax = plt.subplots(figsize=(3.5,2.5))\n",
    "sns.heatmap(confusion_matrix(messages['label'], all_predictions), annot=True, linewidths=.5, ax=ax, cmap=\"Blues\", fmt=\"d\").set(xlabel='Predicted Value', ylabel='Expected Value')\n",
    "sns.plt.title('Training Set Confusion Matrix')"
   ]
  },
  {
   "cell_type": "code",
   "execution_count": 24,
   "metadata": {
    "_cell_guid": "cd20865b-950a-8be6-3377-d9f0ef6bd95b",
    "collapsed": false
   },
   "outputs": [
    {
     "name": "stdout",
     "output_type": "stream",
     "text": [
      "             precision    recall  f1-score   support\n",
      "\n",
      "    Hillary       0.97      0.97      0.97      2629\n",
      "      Trump       0.97      0.98      0.97      3093\n",
      "\n",
      "avg / total       0.97      0.97      0.97      5722\n",
      "\n"
     ]
    }
   ],
   "source": [
    "print(classification_report(messages['label'], all_predictions))"
   ]
  },
  {
   "cell_type": "code",
   "execution_count": 25,
   "metadata": {
    "_cell_guid": "911b6cb8-4f99-156a-65c3-9acb461a5b41",
    "collapsed": false
   },
   "outputs": [
    {
     "name": "stdout",
     "output_type": "stream",
     "text": [
      "(4577, 1145, 5722)\n"
     ]
    }
   ],
   "source": [
    "msg_train, msg_test, label_train, label_test = \\\n",
    "    train_test_split(messages['message'], messages['label'], test_size=0.2, random_state=1)\n",
    "\n",
    "print(len(msg_train), len(msg_test), len(msg_train) + len(msg_test))"
   ]
  },
  {
   "cell_type": "markdown",
   "metadata": {},
   "source": [
    "# Training on Benchmark Model"
   ]
  },
  {
   "cell_type": "code",
   "execution_count": 26,
   "metadata": {
    "collapsed": false
   },
   "outputs": [],
   "source": [
    "pipeline = Pipeline([\n",
    "    ('bow', CountVectorizer(analyzer=split_into_lemmas)),  # strings to token integer counts\n",
    "    ('tfidf', TfidfTransformer()),# integer counts to weighted TF-IDF scores\n",
    "    ('to_dense', DenseTransformer()),\n",
    "    ('classifier',GaussianNB()),  # train on TF-IDF vectors w/ Naive Bayes classifier\n",
    "])"
   ]
  },
  {
   "cell_type": "code",
   "execution_count": 27,
   "metadata": {
    "collapsed": false
   },
   "outputs": [
    {
     "name": "stdout",
     "output_type": "stream",
     "text": [
      "[ 0.86492375  0.85185185  0.84061135  0.87336245  0.8930131   0.84901532\n",
      "  0.87527352  0.8380744   0.80087527  0.84026258]\n"
     ]
    }
   ],
   "source": [
    "scores = cross_val_score(pipeline,  # steps to convert raw messages into models\n",
    "                         msg_train,  # training data\n",
    "                         label_train,  # training labels\n",
    "                         cv=10,  # split data randomly into 10 parts: 9 for training, 1 for scoring\n",
    "                         scoring='accuracy',  # which scoring metric?\n",
    "                         n_jobs=-1,  # -1 = use all cores = faster\n",
    "                         )\n",
    "print(scores)"
   ]
  },
  {
   "cell_type": "code",
   "execution_count": 28,
   "metadata": {
    "collapsed": false
   },
   "outputs": [
    {
     "name": "stdout",
     "output_type": "stream",
     "text": [
      "('Mean score:', 0.85272635927837626, '\\n')\n",
      "('Stdev:', 0.02434315341813648)\n"
     ]
    }
   ],
   "source": [
    "print('Mean score:', scores.mean(), '\\n')\n",
    "print('Stdev:', scores.std())"
   ]
  },
  {
   "cell_type": "code",
   "execution_count": 29,
   "metadata": {
    "collapsed": false
   },
   "outputs": [
    {
     "name": "stdout",
     "output_type": "stream",
     "text": [
      "CPU times: user 3.45 s, sys: 508 ms, total: 3.96 s\n",
      "Wall time: 55.7 s\n",
      "[mean: 0.84881, std: 0.01029, params: {'tfidf__use_idf': True, 'bow__analyzer': <function split_into_lemmas at 0x7f789f85b938>}, mean: 0.86804, std: 0.00856, params: {'tfidf__use_idf': False, 'bow__analyzer': <function split_into_lemmas at 0x7f789f85b938>}, mean: 0.85580, std: 0.01317, params: {'tfidf__use_idf': True, 'bow__analyzer': <function split_into_tokens at 0x7f78a011f7d0>}, mean: 0.87437, std: 0.00868, params: {'tfidf__use_idf': False, 'bow__analyzer': <function split_into_tokens at 0x7f78a011f7d0>}]\n"
     ]
    }
   ],
   "source": [
    "params = {\n",
    "    'tfidf__use_idf': (True, False),\n",
    "    'bow__analyzer': (split_into_lemmas, split_into_tokens),\n",
    "}\n",
    "\n",
    "grid = GridSearchCV(\n",
    "    pipeline,  # pipeline from above\n",
    "    params,  # parameters to tune via cross validation\n",
    "    refit=True,  # fit using all available data at the end, on the best found param combination\n",
    "    n_jobs=-1,  # number of cores to use for parallelization; -1 for \"all cores\"\n",
    "    scoring='accuracy',  # what score are we optimizing?\n",
    "    cv=StratifiedKFold(label_train, n_folds=5),  # what type of cross validation to use\n",
    ")\n",
    "\n",
    "%time nb_detector = grid.fit(msg_train, label_train)\n",
    "print(nb_detector.grid_scores_)"
   ]
  },
  {
   "cell_type": "code",
   "execution_count": 30,
   "metadata": {
    "collapsed": false
   },
   "outputs": [
    {
     "name": "stdout",
     "output_type": "stream",
     "text": [
      "             precision    recall  f1-score   support\n",
      "\n",
      "    Hillary       0.81      0.93      0.87       517\n",
      "      Trump       0.94      0.82      0.88       628\n",
      "\n",
      "avg / total       0.88      0.87      0.87      1145\n",
      "\n"
     ]
    }
   ],
   "source": [
    "predictions = nb_detector.predict(msg_test)\n",
    "print(classification_report(label_test, predictions))"
   ]
  },
  {
   "cell_type": "code",
   "execution_count": 31,
   "metadata": {
    "collapsed": false
   },
   "outputs": [
    {
     "data": {
      "text/plain": [
       "<matplotlib.text.Text at 0x7f789a5a7290>"
      ]
     },
     "execution_count": 31,
     "metadata": {},
     "output_type": "execute_result"
    },
    {
     "data": {
      "image/png": "[encoded data removed]",
      "text/plain": [
       "<matplotlib.figure.Figure at 0x7f78a9f6dc90>"
      ]
     },
     "metadata": {},
     "output_type": "display_data"
    }
   ],
   "source": [
    "fig, ax = plt.subplots(figsize=(3.5,2.5))\n",
    "sns.heatmap(confusion_matrix(label_test, predictions), annot=True, linewidths=.5, ax=ax, cmap=\"Blues\", fmt=\"d\").set(xlabel='Predicted Value', ylabel='Expected Value')\n",
    "sns.plt.title('Test Set Confusion Matrix')"
   ]
  },
  {
   "cell_type": "code",
   "execution_count": 32,
   "metadata": {
    "collapsed": false
   },
   "outputs": [
    {
     "name": "stdout",
     "output_type": "stream",
     "text": [
      "Accuracy on test set:  84.88%\n"
     ]
    }
   ],
   "source": [
    "print(\"Accuracy on test set:  %.2f%%\" % (100 * (nb_detector.grid_scores_[0][1])))"
   ]
  },
  {
   "cell_type": "markdown",
   "metadata": {},
   "source": [
    "# Final Model : Multinomial Naive Bayes"
   ]
  },
  {
   "cell_type": "code",
   "execution_count": 33,
   "metadata": {
    "collapsed": true
   },
   "outputs": [],
   "source": [
    "pipeline = Pipeline([\n",
    "    ('bow', CountVectorizer(analyzer=split_into_lemmas)),  # strings to token integer counts\n",
    "    ('tfidf', TfidfTransformer()),  # integer counts to weighted TF-IDF scores\n",
    "    ('classifier', MultinomialNB()),  # train on TF-IDF vectors w/ Naive Bayes classifier\n",
    "])"
   ]
  },
  {
   "cell_type": "code",
   "execution_count": 34,
   "metadata": {
    "_cell_guid": "40ce26b9-d2a1-fcd4-a4d4-5d8038f02149",
    "collapsed": false
   },
   "outputs": [
    {
     "name": "stdout",
     "output_type": "stream",
     "text": [
      "[ 0.93464052  0.92156863  0.9279476   0.94104803  0.94323144  0.95404814\n",
      "  0.95623632  0.9321663   0.92997812  0.9321663 ]\n"
     ]
    }
   ],
   "source": [
    "scores = cross_val_score(pipeline,  # steps to convert raw messages into models\n",
    "                         msg_train,  # training data\n",
    "                         label_train,  # training labels\n",
    "                         cv=10,  # split data randomly into 10 parts: 9 for training, 1 for scoring\n",
    "                         scoring='accuracy',  # which scoring metric?\n",
    "                         n_jobs=-1,  # -1 = use all cores = faster\n",
    "                         )\n",
    "print(scores)"
   ]
  },
  {
   "cell_type": "code",
   "execution_count": 35,
   "metadata": {
    "_cell_guid": "e031b8c6-d1b0-f793-d0d4-521f632b77dd",
    "collapsed": false
   },
   "outputs": [
    {
     "name": "stdout",
     "output_type": "stream",
     "text": [
      "('Mean score:', 0.9373031410558228, '\\n')\n",
      "('Stdev:', 0.010661379835226978)\n"
     ]
    }
   ],
   "source": [
    "print('Mean score:', scores.mean(), '\\n')\n",
    "print('Stdev:', scores.std())"
   ]
  },
  {
   "cell_type": "code",
   "execution_count": 36,
   "metadata": {
    "_cell_guid": "f08524ac-f3fc-2e48-9b7d-71c0e60462e7",
    "collapsed": false
   },
   "outputs": [
    {
     "name": "stdout",
     "output_type": "stream",
     "text": [
      "CPU times: user 4.6 s, sys: 108 ms, total: 4.71 s\n",
      "Wall time: 38.8 s\n",
      "[mean: 0.93664, std: 0.00795, params: {'tfidf__use_idf': True, 'bow__analyzer': <function split_into_lemmas at 0x7f789f85b938>}, mean: 0.92593, std: 0.00857, params: {'tfidf__use_idf': False, 'bow__analyzer': <function split_into_lemmas at 0x7f789f85b938>}, mean: 0.93445, std: 0.00690, params: {'tfidf__use_idf': True, 'bow__analyzer': <function split_into_tokens at 0x7f78a011f7d0>}, mean: 0.92528, std: 0.00669, params: {'tfidf__use_idf': False, 'bow__analyzer': <function split_into_tokens at 0x7f78a011f7d0>}]\n"
     ]
    }
   ],
   "source": [
    "params = {\n",
    "    'tfidf__use_idf': (True, False),\n",
    "    'bow__analyzer': (split_into_lemmas, split_into_tokens),\n",
    "}\n",
    "\n",
    "grid = GridSearchCV(\n",
    "    pipeline,  # pipeline from above\n",
    "    params,  # parameters to tune via cross validation\n",
    "    refit=True,  # fit using all available data at the end, on the best found param combination\n",
    "    n_jobs=-1,  # number of cores to use for parallelization; -1 for \"all cores\"\n",
    "    scoring='accuracy',  # what score are we optimizing?\n",
    "    cv=StratifiedKFold(label_train, n_folds=5),  # what type of cross validation to use\n",
    ")\n",
    "\n",
    "%time nb_detector = grid.fit(msg_train, label_train)\n",
    "print(nb_detector.grid_scores_)"
   ]
  },
  {
   "cell_type": "code",
   "execution_count": 37,
   "metadata": {
    "_cell_guid": "e525cfda-034c-cfeb-1bd9-843e0e8be8ad",
    "collapsed": false
   },
   "outputs": [
    {
     "name": "stdout",
     "output_type": "stream",
     "text": [
      "             precision    recall  f1-score   support\n",
      "\n",
      "    Hillary       0.92      0.92      0.92       517\n",
      "      Trump       0.94      0.93      0.93       628\n",
      "\n",
      "avg / total       0.93      0.93      0.93      1145\n",
      "\n"
     ]
    }
   ],
   "source": [
    "predictions = nb_detector.predict(msg_test)\n",
    "print(classification_report(label_test, predictions))"
   ]
  },
  {
   "cell_type": "code",
   "execution_count": 38,
   "metadata": {
    "_cell_guid": "33ab914d-21a5-87c0-9df6-c678f71eba2a",
    "collapsed": false
   },
   "outputs": [
    {
     "data": {
      "text/plain": [
       "<matplotlib.text.Text at 0x7f789a60e950>"
      ]
     },
     "execution_count": 38,
     "metadata": {},
     "output_type": "execute_result"
    },
    {
     "data": {
      "image/png": "[encoded data removed]",
      "text/plain": [
       "<matplotlib.figure.Figure at 0x7f789a6a4a50>"
      ]
     },
     "metadata": {},
     "output_type": "display_data"
    }
   ],
   "source": [
    "fig, ax = plt.subplots(figsize=(3.5,2.5))\n",
    "sns.heatmap(confusion_matrix(label_test, predictions), annot=True, linewidths=.5, ax=ax, cmap=\"Blues\", fmt=\"d\").set(xlabel='Predicted Value', ylabel='Expected Value')\n",
    "sns.plt.title('Test Set Confusion Matrix')"
   ]
  },
  {
   "cell_type": "code",
   "execution_count": 39,
   "metadata": {
    "_cell_guid": "aea77cf0-3123-ad1a-1a70-2655efa49064",
    "collapsed": false
   },
   "outputs": [
    {
     "name": "stdout",
     "output_type": "stream",
     "text": [
      "Accuracy on test set:  93.66%\n"
     ]
    }
   ],
   "source": [
    "print(\"Accuracy on test set:  %.2f%%\" % (100 * (nb_detector.grid_scores_[0][1])))"
   ]
  },
  {
   "cell_type": "markdown",
   "metadata": {
    "_cell_guid": "28884bb2-1a64-b77e-577f-d41b8937de89"
   },
   "source": [
    "----------\n",
    "\n",
    "3. Finding the most representative terms for each candidate\n",
    "============================================================"
   ]
  },
  {
   "cell_type": "markdown",
   "metadata": {
    "_cell_guid": "6ac1ee87-53a8-c120-ebe0-763238f92641"
   },
   "source": [
    "This model cares more about **how rare a term is**, not just frequency. \n",
    "\n",
    "Many terms used by a candidate will also be used by his/her rival, not giving much insight into the tweet's author. For example, the term \"and\" is used frequently in the dataset, but passing it through the model will result in a prediction probability of about 50/50 (not helpful at all); however, there are **terms that are used much less frequently, but almost exclusively by certain candidates.**  Those are the words (or groups of words) this model looks for in order to make an accurate prediction."
   ]
  },
  {
   "cell_type": "markdown",
   "metadata": {
    "_cell_guid": "09b40964-4e52-3136-17bc-676441adedd9"
   },
   "source": [
    "Extract terms with highest tf-idf scores\n",
    "-------------------------------------------------------------"
   ]
  },
  {
   "cell_type": "code",
   "execution_count": 40,
   "metadata": {
    "_cell_guid": "4ec421dc-9df2-9b38-4e24-5593051793e2",
    "collapsed": false
   },
   "outputs": [],
   "source": [
    "top_h = {}\n",
    "top_t = {}\n",
    "\n",
    "for w in (bow_transformer.get_feature_names()[:len(bow_transformer.get_feature_names())]):\n",
    "    p = nb_detector.predict_proba([w])[0][0]\n",
    "    if len(w) > 3:\n",
    "        if p > 0.5:\n",
    "            top_h[w] = p\n",
    "        elif p < 0.5:\n",
    "            top_t[w] = p\n",
    "    else:\n",
    "        pass\n",
    "    \n",
    "top_t_10 = sorted(top_t, key=top_t.get, reverse=False)[:10]\n",
    "top_h_10 = sorted(top_h, key=top_h.get, reverse=True)[:10]\n",
    "\n",
    "dic = {}\n",
    "for l in [top_t_10, top_h_10]:\n",
    "    for key, values in (top_t.viewitems() | top_h.viewitems()):\n",
    "        if key in l:\n",
    "            dic[key] = values\n",
    "            \n",
    "top_df = pd.DataFrame(list(dic.viewitems()), columns=['word', 'hillary_prob'])\n",
    "top_df['trump_prob'] = (1 - top_df['hillary_prob'])\n",
    "top_df_t = top_df[:int((len(dic)/2))]\n",
    "top_df_t = top_df_t[['word','trump_prob','hillary_prob']].sort_values(['trump_prob'], ascending=[True])\n",
    "top_df_h = top_df[int((len(dic)/2)):].sort_values(['hillary_prob'], ascending=[True])"
   ]
  },
  {
   "cell_type": "markdown",
   "metadata": {
    "_cell_guid": "910d9492-07e8-ec36-d145-259515185bb9"
   },
   "source": [
    "Top 10 terms with highest probability of indicating a *Trump* tweet\n",
    "-----------------------------------------------------------------"
   ]
  },
  {
   "cell_type": "code",
   "execution_count": 41,
   "metadata": {
    "_cell_guid": "d19d6757-ef2d-8ba9-b199-6be3a92bc26a",
    "collapsed": false
   },
   "outputs": [
    {
     "data": {
      "text/plain": [
       "<matplotlib.text.Text at 0x7f789a660090>"
      ]
     },
     "execution_count": 41,
     "metadata": {},
     "output_type": "execute_result"
    },
    {
     "data": {
      "image/png": "[encoded data removed]",
      "text/plain": [
       "<matplotlib.figure.Figure at 0x7f789a6867d0>"
      ]
     },
     "metadata": {},
     "output_type": "display_data"
    }
   ],
   "source": [
    "sns.set_context({\"figure.figsize\": (10, 7)})\n",
    "top_df_t.plot(kind='barh', stacked=True, color=[\"#E91D0E\",\"#08306B\"]).legend(loc='center left', bbox_to_anchor=(1, 0.5))\n",
    "plt.yticks(range(len(top_df_t['word'])), list(top_df_t['word']))\n",
    "plt.title('Top 10 terms with highest probability of indicating a Trump tweet')\n",
    "plt.xlabel('Probability')"
   ]
  },
  {
   "cell_type": "markdown",
   "metadata": {
    "_cell_guid": "01f0656b-d55a-b77f-3099-049f87b06e0b"
   },
   "source": [
    "Top 10 terms with highest probability of indicating a *Hillary* tweet\n",
    "-------------------------------------------------------------------"
   ]
  },
  {
   "cell_type": "code",
   "execution_count": 42,
   "metadata": {
    "_cell_guid": "0b5ab08e-943a-711f-a86c-5241d987fd4f",
    "collapsed": false
   },
   "outputs": [
    {
     "data": {
      "text/plain": [
       "<matplotlib.text.Text at 0x7f789a7b1250>"
      ]
     },
     "execution_count": 42,
     "metadata": {},
     "output_type": "execute_result"
    },
    {
     "data": {
      "image/png": "[encoded data removed]",
      "text/plain": [
       "<matplotlib.figure.Figure at 0x7f789a9cb090>"
      ]
     },
     "metadata": {},
     "output_type": "display_data"
    }
   ],
   "source": [
    "sns.set_context({\"figure.figsize\": (11, 7)})\n",
    "top_df_h.plot(kind='barh', stacked=True, color=[\"#08306B\",\"#E91D0E\"]).legend(loc='center left', bbox_to_anchor=(1, 0.5))\n",
    "plt.yticks(range(len(top_df_h['word'])), list(top_df_h['word']))\n",
    "plt.title('Top 10 terms with highest probability of indicating a Hillary tweet')\n",
    "plt.xlabel('Probability')"
   ]
  },
  {
   "cell_type": "markdown",
   "metadata": {
    "_cell_guid": "25d7b502-a168-4b70-6dcf-311ef25c5864"
   },
   "source": [
    "----------\n",
    "\n",
    "4. Testing it out\n",
    "================="
   ]
  },
  {
   "cell_type": "markdown",
   "metadata": {
    "_cell_guid": "ddc352fe-68e5-1d9f-ffb8-b976e31f7c2b"
   },
   "source": [
    "\n",
    "***Just gonna make up some tweets real quick...***"
   ]
  },
  {
   "cell_type": "code",
   "execution_count": 43,
   "metadata": {
    "_cell_guid": "54d12023-035a-384e-cb8a-1e2e838b1e07",
    "collapsed": true
   },
   "outputs": [],
   "source": [
    "my_1st_tweet = 'America needs a leader who treats women with respect'\n",
    "my_2nd_tweet = 'My hands are so yuge, just ask @seanhannity'"
   ]
  },
  {
   "cell_type": "code",
   "execution_count": 44,
   "metadata": {
    "_cell_guid": "b6974771-6be5-22f0-ab31-c68cc26f6c34",
    "collapsed": false
   },
   "outputs": [
    {
     "name": "stdout",
     "output_type": "stream",
     "text": [
      "('Tweet #1:', \"'\", 'America needs a leader who treats women with respect', \"'\", ' \\n \\n', \"I'm about 83%\", 'sure this was tweeted by', 'Hillary')\n"
     ]
    }
   ],
   "source": [
    "print(\"Tweet #1:\", \"'\",my_1st_tweet, \"'\", ' \\n \\n', \"I'm about %.0f%%\" % (100 * max(nb_detector.predict_proba([my_1st_tweet])[0])), \"sure this was tweeted by\", nb_detector.predict([my_1st_tweet])[0])"
   ]
  },
  {
   "cell_type": "code",
   "execution_count": 45,
   "metadata": {
    "_cell_guid": "a4828100-85e7-5bd6-a25c-56c1f9a2616c",
    "collapsed": false
   },
   "outputs": [
    {
     "name": "stdout",
     "output_type": "stream",
     "text": [
      "('Tweet #2:', \"'\", 'My hands are so yuge, just ask @seanhannity', \"'\", ' \\n \\n', \"I'm about 71%\", 'sure this was tweeted by', 'Trump')\n"
     ]
    }
   ],
   "source": [
    "print(\"Tweet #2:\", \"'\",my_2nd_tweet, \"'\", ' \\n \\n', \"I'm about %.0f%%\" % (100 * max(nb_detector.predict_proba([my_2nd_tweet])[0])), \"sure this was tweeted by\", nb_detector.predict([my_2nd_tweet])[0])"
   ]
  },
  {
   "cell_type": "markdown",
   "metadata": {
    "_cell_guid": "94c5f736-024c-4a9d-b922-acffffda3b7b"
   },
   "source": [
    "----------\n",
    "\n",
    "5. Enter your tweet!\n",
    "===================="
   ]
  },
  {
   "cell_type": "markdown",
   "metadata": {
    "_cell_guid": "31bb0098-c967-1803-fc0e-bf3cd03dc9bd"
   },
   "source": [
    " 1. Write your tweet in the cell below\n",
    " 2. Run the cell (or the notebook, if you haven't yet)\n",
    " 3. Check out the results!"
   ]
  },
  {
   "cell_type": "code",
   "execution_count": 49,
   "metadata": {
    "_cell_guid": "08add99d-ca1c-1ae9-4203-d72e7d388925",
    "collapsed": false
   },
   "outputs": [
    {
     "name": "stdout",
     "output_type": "stream",
     "text": [
      "('Tweet #1:', \"'\", '#demsinphilly', \"'\", ' \\n \\n', \"I'm about 87%\", 'sure this was tweeted by', 'Hillary')\n"
     ]
    }
   ],
   "source": [
    "your_tweet = \"ENTER YOUR TWEET HERE, INSIDE THE QUOTES\"\n",
    "\n",
    "\n",
    "# ---- this part stays the same----\n",
    "if your_tweet == \"ENTER YOUR TWEET HERE, INSIDE THE QUOTES\":\n",
    "    pass\n",
    "else:\n",
    "    print(\"Tweet #1:\", \"'\",your_tweet, \"'\", ' \\n \\n', \"I'm about %.0f%%\" % (100 * max(nb_detector.predict_proba([your_tweet])[0])), \"sure this was tweeted by\", nb_detector.predict([your_tweet])[0])"
   ]
  },
  {
   "cell_type": "code",
   "execution_count": null,
   "metadata": {
    "collapsed": true
   },
   "outputs": [],
   "source": []
  }
 ],
 "metadata": {
  "_change_revision": 1,
  "_is_fork": false,
  "kernelspec": {
   "display_name": "Python 2",
   "language": "python",
   "name": "python2"
  },
  "language_info": {
   "codemirror_mode": {
    "name": "ipython",
    "version": 2
   },
   "file_extension": ".py",
   "mimetype": "text/x-python",
   "name": "python",
   "nbconvert_exporter": "python",
   "pygments_lexer": "ipython2",
   "version": "2.7.13"
  }
 },
 "nbformat": 4,
 "nbformat_minor": 0
}
